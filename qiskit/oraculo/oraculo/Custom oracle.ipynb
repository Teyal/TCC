{
 "cells": [
  {
   "cell_type": "code",
   "execution_count": 1,
   "source": [
    "import numpy as np\n",
    "from qiskit import BasicAer, IBMQ, Aer, QuantumCircuit, ClassicalRegister, QuantumRegister, execute\n",
    "from qiskit.aqua.components.oracles import CustomCircuitOracle, LogicalExpressionOracle\n",
    "from qiskit.visualization import plot_histogram\n",
    "from qiskit.aqua import QuantumInstance\n",
    "from qiskit.aqua.algorithms import Grover\n",
    "from qiskit.aqua.components.oracles import LogicalExpressionOracle, TruthTableOracle\n",
    "from matplotlib import pyplot as plt\n"
   ],
   "outputs": [],
   "metadata": {}
  },
  {
   "cell_type": "code",
   "execution_count": 2,
   "source": [
    "variable_qubits = QuantumRegister(3, name='v')\n",
    "clause_qubits = QuantumRegister(3, name='c')\n",
    "output_qubits = QuantumRegister(1, name='o')\n",
    "# variable_qubits = QuantumRegister(2, name='v')\n",
    "# clause_qubits = QuantumRegister(2, name='c')\n",
    "# output_qubits = QuantumRegister(1, name='o')\n",
    "qc = QuantumCircuit(variable_qubits, clause_qubits, output_qubits)\n",
    "\n"
   ],
   "outputs": [],
   "metadata": {}
  },
  {
   "cell_type": "code",
   "execution_count": 3,
   "source": [
    "\n",
    "# (v1 V ¬v2 V v3) ∧  (v1 V ¬3) ∧ (¬v1 V v2)  ==\n",
    "# ¬(¬v1 ∧ v2 ∧ ¬v3) ∧ ¬(¬v1 ∧ v3) ∧ ¬(v1 ∧ ¬v2) \n",
    "\n",
    "\n",
    "\n",
    "def process_oracle(qc,variable_qubits,clause_qubits,output_qubits):\n",
    "    qc.x(clause_qubits) #all of them are inversed\n",
    "\n",
    "    qc.x(variable_qubits[0]) #fisrt clause\n",
    "    qc.x(variable_qubits[1]) #(¬v1 ∧ ¬v2 ∧ v3)\n",
    "    qc.mcx(variable_qubits, clause_qubits[0])\n",
    "\n",
    "    qc.x(variable_qubits[1]) \n",
    "    qc.x(variable_qubits[2]) #(¬v1 ∧ v2 ∧ ¬v3)\n",
    "    qc.mcx(variable_qubits, clause_qubits[1])\n",
    "\n",
    "    qc.x(variable_qubits[0]) #third clause\n",
    "    qc.x(variable_qubits[2]) #(v1 ∧ v2 ∧ v3)\n",
    "    qc.mcx(variable_qubits, clause_qubits[2])\n",
    "\n",
    "def unprocess_oracle(qc,variable_qubits,clause_qubits,output_qubits):\n",
    "    qc.x(variable_qubits[0]) #third clause\n",
    "    qc.x(variable_qubits[2]) #(v1 ∧ v2 ∧ v3)\n",
    "    qc.mcx(variable_qubits, clause_qubits[2])\n",
    "\n",
    "    qc.x(variable_qubits[1]) \n",
    "    qc.x(variable_qubits[2]) #(¬v1 ∧ v2 ∧ ¬v3)\n",
    "    qc.mcx(variable_qubits, clause_qubits[1])\n",
    "\n",
    "    qc.x(variable_qubits[0]) #fisrt clause\n",
    "    qc.x(variable_qubits[1]) #(¬v1 ∧ ¬v2 ∧ v3)\n",
    "    qc.mcx(variable_qubits, clause_qubits[0])\n",
    "\n",
    "    qc.x(clause_qubits) #all of them are inversed\n",
    "    \n",
    "process_oracle(qc,variable_qubits,clause_qubits,output_qubits)\n",
    "qc.mcp(-1,clause_qubits,output_qubits)\n",
    "unprocess_oracle(qc,variable_qubits,clause_qubits,output_qubits) #reverse\n",
    "qc.draw()"
   ],
   "outputs": [
    {
     "output_type": "execute_result",
     "data": {
      "text/plain": [
       "     ┌───┐               ┌───┐       ┌───┐                      ┌───┐     \n",
       "v_0: ┤ X ├──■─────────■──┤ X ├──■────┤ X ├─────────■─────────■──┤ X ├──■──\n",
       "     ├───┤  │  ┌───┐  │  └───┘  │    └───┘         │  ┌───┐  │  ├───┤  │  \n",
       "v_1: ┤ X ├──■──┤ X ├──■─────────■──────────────────■──┤ X ├──■──┤ X ├──■──\n",
       "     └───┘  │  ├───┤  │  ┌───┐  │    ┌───┐         │  ├───┤  │  └───┘  │  \n",
       "v_2: ───────■──┤ X ├──■──┤ X ├──■────┤ X ├─────────■──┤ X ├──■─────────■──\n",
       "     ┌───┐┌─┴─┐└───┘  │  └───┘  │    └───┘  ┌───┐  │  └───┘  │       ┌─┴─┐\n",
       "c_0: ┤ X ├┤ X ├───────┼─────────┼──────■────┤ X ├──┼─────────┼───────┤ X ├\n",
       "     ├───┤└───┘     ┌─┴─┐       │      │    ├───┤  │       ┌─┴─┐     └───┘\n",
       "c_1: ┤ X ├──────────┤ X ├───────┼──────■────┤ X ├──┼───────┤ X ├──────────\n",
       "     ├───┤          └───┘     ┌─┴─┐    │    ├───┤┌─┴─┐     └───┘          \n",
       "c_2: ┤ X ├────────────────────┤ X ├────■────┤ X ├┤ X ├────────────────────\n",
       "     └───┘                    └───┘┌───┴───┐└───┘└───┘                    \n",
       "o_0: ──────────────────────────────┤ P(-1) ├──────────────────────────────\n",
       "                                   └───────┘                              "
      ],
      "text/html": [
       "<pre style=\"word-wrap: normal;white-space: pre;background: #fff0;line-height: 1.1;font-family: &quot;Courier New&quot;,Courier,monospace\">     ┌───┐               ┌───┐       ┌───┐                      ┌───┐     \n",
       "v_0: ┤ X ├──■─────────■──┤ X ├──■────┤ X ├─────────■─────────■──┤ X ├──■──\n",
       "     ├───┤  │  ┌───┐  │  └───┘  │    └───┘         │  ┌───┐  │  ├───┤  │  \n",
       "v_1: ┤ X ├──■──┤ X ├──■─────────■──────────────────■──┤ X ├──■──┤ X ├──■──\n",
       "     └───┘  │  ├───┤  │  ┌───┐  │    ┌───┐         │  ├───┤  │  └───┘  │  \n",
       "v_2: ───────■──┤ X ├──■──┤ X ├──■────┤ X ├─────────■──┤ X ├──■─────────■──\n",
       "     ┌───┐┌─┴─┐└───┘  │  └───┘  │    └───┘  ┌───┐  │  └───┘  │       ┌─┴─┐\n",
       "c_0: ┤ X ├┤ X ├───────┼─────────┼──────■────┤ X ├──┼─────────┼───────┤ X ├\n",
       "     ├───┤└───┘     ┌─┴─┐       │      │    ├───┤  │       ┌─┴─┐     └───┘\n",
       "c_1: ┤ X ├──────────┤ X ├───────┼──────■────┤ X ├──┼───────┤ X ├──────────\n",
       "     ├───┤          └───┘     ┌─┴─┐    │    ├───┤┌─┴─┐     └───┘          \n",
       "c_2: ┤ X ├────────────────────┤ X ├────■────┤ X ├┤ X ├────────────────────\n",
       "     └───┘                    └───┘┌───┴───┐└───┘└───┘                    \n",
       "o_0: ──────────────────────────────┤ P(-1) ├──────────────────────────────\n",
       "                                   └───────┘                              </pre>"
      ]
     },
     "metadata": {},
     "execution_count": 3
    }
   ],
   "metadata": {}
  },
  {
   "cell_type": "code",
   "execution_count": 4,
   "source": [
    "qc.x(variable_qubits[1])\n",
    "qc.mcx(variable_qubits,clause_qubits[0])\n",
    "qc.x(variable_qubits)\n",
    "qc.mcx(variable_qubits,clause_qubits[1])\n",
    "\n",
    "qc.mcx(clause_qubits, output_qubits)\n",
    "\n",
    "qc.x(variable_qubits[1])\n",
    "qc.mcx(variable_qubits,clause_qubits[0])\n",
    "qc.x(variable_qubits)\n",
    "qc.mcx(variable_qubits,clause_qubits[1])\n",
    "\n",
    "qc.draw()"
   ],
   "outputs": [
    {
     "output_type": "execute_result",
     "data": {
      "text/plain": [
       "     ┌───┐               ┌───┐       ┌───┐                      ┌───┐          »\n",
       "v_0: ┤ X ├──■─────────■──┤ X ├──■────┤ X ├─────────■─────────■──┤ X ├──■───────»\n",
       "     ├───┤  │  ┌───┐  │  └───┘  │    └───┘         │  ┌───┐  │  ├───┤  │  ┌───┐»\n",
       "v_1: ┤ X ├──■──┤ X ├──■─────────■──────────────────■──┤ X ├──■──┤ X ├──■──┤ X ├»\n",
       "     └───┘  │  ├───┤  │  ┌───┐  │    ┌───┐         │  ├───┤  │  └───┘  │  └───┘»\n",
       "v_2: ───────■──┤ X ├──■──┤ X ├──■────┤ X ├─────────■──┤ X ├──■─────────■───────»\n",
       "     ┌───┐┌─┴─┐└───┘  │  └───┘  │    └───┘  ┌───┐  │  └───┘  │       ┌─┴─┐     »\n",
       "c_0: ┤ X ├┤ X ├───────┼─────────┼──────■────┤ X ├──┼─────────┼───────┤ X ├─────»\n",
       "     ├───┤└───┘     ┌─┴─┐       │      │    ├───┤  │       ┌─┴─┐     └───┘     »\n",
       "c_1: ┤ X ├──────────┤ X ├───────┼──────■────┤ X ├──┼───────┤ X ├───────────────»\n",
       "     ├───┤          └───┘     ┌─┴─┐    │    ├───┤┌─┴─┐     └───┘               »\n",
       "c_2: ┤ X ├────────────────────┤ X ├────■────┤ X ├┤ X ├─────────────────────────»\n",
       "     └───┘                    └───┘┌───┴───┐└───┘└───┘                         »\n",
       "o_0: ──────────────────────────────┤ P(-1) ├───────────────────────────────────»\n",
       "                                   └───────┘                                   »\n",
       "«          ┌───┐               ┌───┐     \n",
       "«v_0: ──■──┤ X ├──■─────────■──┤ X ├──■──\n",
       "«       │  ├───┤  │  ┌───┐  │  ├───┤  │  \n",
       "«v_1: ──■──┤ X ├──■──┤ X ├──■──┤ X ├──■──\n",
       "«       │  ├───┤  │  └───┘  │  ├───┤  │  \n",
       "«v_2: ──■──┤ X ├──■─────────■──┤ X ├──■──\n",
       "«     ┌─┴─┐└───┘  │       ┌─┴─┐└───┘  │  \n",
       "«c_0: ┤ X ├───────┼────■──┤ X ├───────┼──\n",
       "«     └───┘     ┌─┴─┐  │  └───┘     ┌─┴─┐\n",
       "«c_1: ──────────┤ X ├──■────────────┤ X ├\n",
       "«               └───┘  │            └───┘\n",
       "«c_2: ─────────────────■─────────────────\n",
       "«                    ┌─┴─┐               \n",
       "«o_0: ───────────────┤ X ├───────────────\n",
       "«                    └───┘               "
      ],
      "text/html": [
       "<pre style=\"word-wrap: normal;white-space: pre;background: #fff0;line-height: 1.1;font-family: &quot;Courier New&quot;,Courier,monospace\">     ┌───┐               ┌───┐       ┌───┐                      ┌───┐          »\n",
       "v_0: ┤ X ├──■─────────■──┤ X ├──■────┤ X ├─────────■─────────■──┤ X ├──■───────»\n",
       "     ├───┤  │  ┌───┐  │  └───┘  │    └───┘         │  ┌───┐  │  ├───┤  │  ┌───┐»\n",
       "v_1: ┤ X ├──■──┤ X ├──■─────────■──────────────────■──┤ X ├──■──┤ X ├──■──┤ X ├»\n",
       "     └───┘  │  ├───┤  │  ┌───┐  │    ┌───┐         │  ├───┤  │  └───┘  │  └───┘»\n",
       "v_2: ───────■──┤ X ├──■──┤ X ├──■────┤ X ├─────────■──┤ X ├──■─────────■───────»\n",
       "     ┌───┐┌─┴─┐└───┘  │  └───┘  │    └───┘  ┌───┐  │  └───┘  │       ┌─┴─┐     »\n",
       "c_0: ┤ X ├┤ X ├───────┼─────────┼──────■────┤ X ├──┼─────────┼───────┤ X ├─────»\n",
       "     ├───┤└───┘     ┌─┴─┐       │      │    ├───┤  │       ┌─┴─┐     └───┘     »\n",
       "c_1: ┤ X ├──────────┤ X ├───────┼──────■────┤ X ├──┼───────┤ X ├───────────────»\n",
       "     ├───┤          └───┘     ┌─┴─┐    │    ├───┤┌─┴─┐     └───┘               »\n",
       "c_2: ┤ X ├────────────────────┤ X ├────■────┤ X ├┤ X ├─────────────────────────»\n",
       "     └───┘                    └───┘┌───┴───┐└───┘└───┘                         »\n",
       "o_0: ──────────────────────────────┤ P(-1) ├───────────────────────────────────»\n",
       "                                   └───────┘                                   »\n",
       "«          ┌───┐               ┌───┐     \n",
       "«v_0: ──■──┤ X ├──■─────────■──┤ X ├──■──\n",
       "«       │  ├───┤  │  ┌───┐  │  ├───┤  │  \n",
       "«v_1: ──■──┤ X ├──■──┤ X ├──■──┤ X ├──■──\n",
       "«       │  ├───┤  │  └───┘  │  ├───┤  │  \n",
       "«v_2: ──■──┤ X ├──■─────────■──┤ X ├──■──\n",
       "«     ┌─┴─┐└───┘  │       ┌─┴─┐└───┘  │  \n",
       "«c_0: ┤ X ├───────┼────■──┤ X ├───────┼──\n",
       "«     └───┘     ┌─┴─┐  │  └───┘     ┌─┴─┐\n",
       "«c_1: ──────────┤ X ├──■────────────┤ X ├\n",
       "«               └───┘  │            └───┘\n",
       "«c_2: ─────────────────■─────────────────\n",
       "«                    ┌─┴─┐               \n",
       "«o_0: ───────────────┤ X ├───────────────\n",
       "«                    └───┘               </pre>"
      ]
     },
     "metadata": {},
     "execution_count": 4
    }
   ],
   "metadata": {}
  },
  {
   "cell_type": "code",
   "execution_count": 30,
   "source": [
    "#(v1 V ¬v2 V v3) ∧ (v1 V ¬3) ∧ (¬v1 V v2) \n",
    "expression = '''\n",
    "c example DIMACS-CNF 3-SAT\n",
    "p cnf 3 3\n",
    "-1 -2 3 0\n",
    "1 -2 -3 0\n",
    "1 2 3 0'''\n",
    "#expression = '''\n",
    "#c example DIMACS-CNF 3-SAT\n",
    "#p cnf 3 2\n",
    "#1 -2 3 0\n",
    "#-3 0'''\n",
    "a = LogicalExpressionOracle(expression)\n",
    "print(a.circuit)"
   ],
   "outputs": [
    {
     "output_type": "stream",
     "name": "stdout",
     "text": [
      "     ┌───┐      ┌───┐┌───┐      ┌───┐      ┌───┐            ┌───┐┌───┐      »\n",
      "v_0: ┤ X ├──■───┤ X ├┤ X ├──■───┤ X ├──■───┤ X ├────────■───┤ X ├┤ X ├──■───»\n",
      "     ├───┤  │   ├───┤└───┘  │   └───┘  │   ├───┤        │   ├───┤└───┘  │   »\n",
      "v_1: ┤ X ├──■───┤ X ├───────■──────────■───┤ X ├────────■───┤ X ├───────■───»\n",
      "     ├───┤  │   ├───┤       │   ┌───┐  │   ├───┤ ┌───┐  │   ├───┤       │   »\n",
      "v_2: ┤ X ├──■───┤ X ├───────■───┤ X ├──■───┤ X ├─┤ X ├──■───┤ X ├───────■───»\n",
      "     ├───┤┌─┴──┐└───┘       │   └───┘  │   └───┘ ├───┤┌─┴──┐└───┘       │   »\n",
      "c_0: ┤ X ├┤0   ├────────────┼──────────┼─────■───┤ X ├┤0   ├────────────┼───»\n",
      "     ├───┤│    │          ┌─┴──┐       │     │   ├───┤│    │          ┌─┴──┐»\n",
      "c_1: ┤ X ├┤    ├──────────┤0   ├───────┼─────■───┤ X ├┤    ├──────────┤0   ├»\n",
      "     ├───┤│    │          │    │     ┌─┴──┐  │   ├───┤│    │          │    │»\n",
      "c_2: ┤ X ├┤  X ├──────────┤    ├─────┤0   ├──■───┤ X ├┤  X ├──────────┤    ├»\n",
      "     └───┘│    │          │  X │     │    │┌─┴──┐└───┘│    │          │  X │»\n",
      "o_0: ─────┤    ├──────────┤    ├─────┤  X ├┤0   ├─────┤    ├──────────┤    ├»\n",
      "          │    │          │    │     │    ││  X │     │    │          │    │»\n",
      "a_0: ─────┤1   ├──────────┤1   ├─────┤1   ├┤1   ├─────┤1   ├──────────┤1   ├»\n",
      "          └────┘          └────┘     └────┘└────┘     └────┘          └────┘»\n",
      "«     ┌───┐           \n",
      "«v_0: ┤ X ├──■────────\n",
      "«     └───┘  │        \n",
      "«v_1: ───────■────────\n",
      "«     ┌───┐  │   ┌───┐\n",
      "«v_2: ┤ X ├──■───┤ X ├\n",
      "«     └───┘  │   └───┘\n",
      "«c_0: ───────┼────────\n",
      "«            │        \n",
      "«c_1: ───────┼────────\n",
      "«          ┌─┴──┐     \n",
      "«c_2: ─────┤0   ├─────\n",
      "«          │    │     \n",
      "«o_0: ─────┤  X ├─────\n",
      "«          │    │     \n",
      "«a_0: ─────┤1   ├─────\n",
      "«          └────┘     \n"
     ]
    }
   ],
   "metadata": {}
  },
  {
   "cell_type": "code",
   "execution_count": 19,
   "source": [
    "expressionClass = LogicalExpressionOracle(expression)\n",
    "oracle = CustomCircuitOracle(variable_qubits, output_qubits, qc, evaluate_classically_callback=expressionClass.evaluate_classically)\n",
    "print(oracle.construct_circuit())"
   ],
   "outputs": [
    {
     "output_type": "error",
     "ename": "NameError",
     "evalue": "name 'variable_qubits' is not defined",
     "traceback": [
      "\u001b[0;31m---------------------------------------------------------------------------\u001b[0m",
      "\u001b[0;31mNameError\u001b[0m                                 Traceback (most recent call last)",
      "\u001b[0;32m<ipython-input-19-f54e9d02c4a3>\u001b[0m in \u001b[0;36m<module>\u001b[0;34m\u001b[0m\n\u001b[1;32m      1\u001b[0m \u001b[0mexpressionClass\u001b[0m \u001b[0;34m=\u001b[0m \u001b[0mLogicalExpressionOracle\u001b[0m\u001b[0;34m(\u001b[0m\u001b[0mexpression\u001b[0m\u001b[0;34m)\u001b[0m\u001b[0;34m\u001b[0m\u001b[0;34m\u001b[0m\u001b[0m\n\u001b[0;32m----> 2\u001b[0;31m \u001b[0moracle\u001b[0m \u001b[0;34m=\u001b[0m \u001b[0mCustomCircuitOracle\u001b[0m\u001b[0;34m(\u001b[0m\u001b[0mvariable_qubits\u001b[0m\u001b[0;34m,\u001b[0m \u001b[0moutput_qubits\u001b[0m\u001b[0;34m,\u001b[0m \u001b[0mqc\u001b[0m\u001b[0;34m,\u001b[0m \u001b[0mevaluate_classically_callback\u001b[0m\u001b[0;34m=\u001b[0m\u001b[0mexpressionClass\u001b[0m\u001b[0;34m.\u001b[0m\u001b[0mevaluate_classically\u001b[0m\u001b[0;34m)\u001b[0m\u001b[0;34m\u001b[0m\u001b[0;34m\u001b[0m\u001b[0m\n\u001b[0m\u001b[1;32m      3\u001b[0m \u001b[0mprint\u001b[0m\u001b[0;34m(\u001b[0m\u001b[0moracle\u001b[0m\u001b[0;34m.\u001b[0m\u001b[0mconstruct_circuit\u001b[0m\u001b[0;34m(\u001b[0m\u001b[0;34m)\u001b[0m\u001b[0;34m)\u001b[0m\u001b[0;34m\u001b[0m\u001b[0;34m\u001b[0m\u001b[0m\n",
      "\u001b[0;31mNameError\u001b[0m: name 'variable_qubits' is not defined"
     ]
    }
   ],
   "metadata": {}
  },
  {
   "cell_type": "code",
   "execution_count": 31,
   "source": [
    "#expressionClass = LogicalExpressionOracle(expression)\n",
    "#oracle = CustomCircuitOracle(variable_qubits, output_qubits, qc, evaluate_classically_callback=expressionClass.evaluate_classically)\n",
    "\n",
    "grover = Grover(a)\n",
    "#grover = Grover(oracle)\n",
    "\n",
    "backend = BasicAer.get_backend('qasm_simulator')\n",
    "quantum_instance = QuantumInstance(backend, shots=1024)\n",
    "result = grover.run(quantum_instance)\n",
    "print(result['result'])"
   ],
   "outputs": [
    {
     "output_type": "stream",
     "name": "stdout",
     "text": [
      "[1, 2, -3]\n"
     ]
    },
    {
     "output_type": "stream",
     "name": "stderr",
     "text": [
      "/home/teyal/.cache/pypoetry/virtualenvs/oraculo-ogdQMvzn-py3.9/lib/python3.9/site-packages/qiskit/aqua/algorithms/amplitude_amplifiers/grover.py:608: DeprecationWarning: result deprecated, use assignment property.\n",
      "  warnings.warn('result deprecated, use assignment property.', DeprecationWarning)\n"
     ]
    }
   ],
   "metadata": {}
  },
  {
   "cell_type": "code",
   "execution_count": 32,
   "source": [
    "plot_histogram(result['measurement'])"
   ],
   "outputs": [
    {
     "output_type": "execute_result",
     "data": {
      "text/plain": [
       "<Figure size 504x360 with 1 Axes>"
      ],
      "image/png": "[encoded data removed]"
     },
     "metadata": {},
     "execution_count": 32
    }
   ],
   "metadata": {}
  },
  {
   "cell_type": "code",
   "execution_count": 33,
   "source": [
    "## ¬(¬v1 ∧ ¬v2 ∧ v3) V ¬(¬v1 ∧ v2 ∧ ¬v3) V ¬(v1 ∧ v2 ∧ v3)"
   ],
   "outputs": [],
   "metadata": {}
  }
 ],
 "metadata": {
  "kernelspec": {
   "name": "python3",
   "display_name": "Python 3.9.6 64-bit ('oraculo-ogdQMvzn-py3.9': poetry)"
  },
  "language_info": {
   "codemirror_mode": {
    "name": "ipython",
    "version": 3
   },
   "file_extension": ".py",
   "mimetype": "text/x-python",
   "name": "python",
   "nbconvert_exporter": "python",
   "pygments_lexer": "ipython3",
   "version": "3.9.6"
  },
  "interpreter": {
   "hash": "1abe21cc7163028f51ac258b52e04d3fe69b6e6313e5c102e20c4bcad90cfaf2"
  }
 },
 "nbformat": 4,
 "nbformat_minor": 4
}