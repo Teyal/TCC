{
 "metadata": {
  "language_info": {
   "codemirror_mode": {
    "name": "ipython",
    "version": 3
   },
   "file_extension": ".py",
   "mimetype": "text/x-python",
   "name": "python",
   "nbconvert_exporter": "python",
   "pygments_lexer": "ipython3",
   "version": "3.9.5"
  },
  "orig_nbformat": 2,
  "kernelspec": {
   "name": "python3",
   "display_name": "Python 3.9.5 64-bit"
  },
  "interpreter": {
   "hash": "e7370f93d1d0cde622a1f8e1c04877d8463912d04d973331ad4851f04de6915a"
  }
 },
 "nbformat": 4,
 "nbformat_minor": 2,
 "cells": [
  {
   "cell_type": "code",
   "execution_count": 46,
   "metadata": {},
   "outputs": [],
   "source": [
    "import numpy as np\n",
    "import matplotlib as plt\n"
   ]
  },
  {
   "cell_type": "code",
   "execution_count": 47,
   "metadata": {},
   "outputs": [],
   "source": [
    "expression = '''\n",
    "c example DIMACS-CNF 3-SAT\n",
    "p cnf 3 3\n",
    "1 2 -3 0\n",
    "-1 -2 -3 0\n",
    "-1 -2 3 0\n",
    "'''"
   ]
  },
  {
   "cell_type": "code",
   "execution_count": 48,
   "metadata": {},
   "outputs": [
    {
     "output_type": "execute_result",
     "data": {
      "text/plain": [
       "'\\nc example DIMACS-CNF 3-SAT\\np cnf 3 3\\n1 2 -3 0\\n-1 -2 -3 0\\n-1 -2 3 0\\n'"
      ]
     },
     "metadata": {},
     "execution_count": 48
    }
   ],
   "source": [
    "expression"
   ]
  },
  {
   "cell_type": "code",
   "execution_count": 49,
   "metadata": {},
   "outputs": [
    {
     "output_type": "stream",
     "name": "stdout",
     "text": [
      "['', 'c example DIMACS-CNF 3-SAT', 'p cnf 3 3', '1 2 -3 0', '-1 -2 -3 0', '-1 -2 3 0', '']\n"
     ]
    }
   ],
   "source": [
    "expr = expression.split('\\n')\n",
    "print(expr)"
   ]
  },
  {
   "cell_type": "code",
   "execution_count": 56,
   "metadata": {},
   "outputs": [
    {
     "output_type": "stream",
     "name": "stdout",
     "text": [
      "<class 'int'>\n3\n"
     ]
    },
    {
     "output_type": "execute_result",
     "data": {
      "text/plain": [
       "['1 2 -3 0', '-1 -2 -3 0', '-1 -2 3 0']"
      ]
     },
     "metadata": {},
     "execution_count": 56
    }
   ],
   "source": [
    "_,_,variables, clauses = expr[2].split()\n",
    "variables = int(variables)\n",
    "clauses = int(clauses)\n",
    "print(type(variables))\n",
    "print(clauses)\n",
    "expr[3:-1]"
   ]
  },
  {
   "cell_type": "code",
   "execution_count": 51,
   "metadata": {},
   "outputs": [],
   "source": [
    "#var = quant(variables)\n",
    "#cla = quant(clauses)\n",
    "#aux = X(quant())\n",
    "#x_state = [True]*variables #True = positive, False = Negative\n",
    "#i = 0\n",
    "#\n",
    "#for c in expr[3:-1]:\n",
    "#\n",
    "#    if x_state:\n",
    "#\n",
    "#    ctrl(list, X, cla[i])\n",
    "#    i += 1\n",
    "#ctrl(cla, X, aux)"
   ]
  },
  {
   "cell_type": "code",
   "execution_count": 52,
   "metadata": {},
   "outputs": [
    {
     "output_type": "stream",
     "name": "stdout",
     "text": [
      "From: 1 2 -3 0\n  and: 1\n  and: 2\n  and: -3\nFrom: -1 -2 -3 0\n  and: -1\n  and: -2\n  and: -3\nFrom: -1 -2 3 0\n  and: -1\n  and: -2\n  and: 3\n[[0, 0, 1], [1, 1, 0], [0, 0, 1]]\n"
     ]
    }
   ],
   "source": [
    "x_state = [True]*variables #True = positive, False = Negative\n",
    "i = 0\n",
    "comp = []\n",
    "for c in expr[3:-1]:    # accessing only the clauses\n",
    "    print(f\"From: {c}\")\n",
    "    temp = [0]*variables\n",
    "    for v in c.split()[:-1]:    # ignoring the 0 at the end\n",
    "        print(f\"  and: {v}\")\n",
    "        if '-' in v:\n",
    "            state = False\n",
    "        else:\n",
    "            state = True\n",
    "        variable = abs(int(v)) - 1    # -1 for easier access on the list\n",
    "        if state != x_state[variable]:\n",
    "            temp[variable] = 1\n",
    "            x_state[variable] = not x_state[variable]\n",
    "    comp.append(temp)\n",
    "print(comp)\n"
   ]
  },
  {
   "cell_type": "code",
   "execution_count": 53,
   "metadata": {},
   "outputs": [],
   "source": [
    "expression = '''\n",
    "c example DIMACS-CNF 3-SAT\n",
    "p cnf 3 3\n",
    "1 2 -3 0\n",
    "-1 -2 -3 0\n",
    "1 -2 3 0\n",
    "'''"
   ]
  },
  {
   "cell_type": "code",
   "execution_count": 54,
   "metadata": {},
   "outputs": [],
   "source": [
    "#def oracle(x, y, answers):\n",
    "#    for i in answers:\n",
    "#        ctrl(x, X, y, on_state=i) "
   ]
  }
 ]
}